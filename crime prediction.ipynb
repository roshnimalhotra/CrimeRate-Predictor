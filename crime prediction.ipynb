{
 "cells": [
  {
   "cell_type": "code",
   "execution_count": 38,
   "id": "8f5836a9-14a0-4b83-82c5-b6f51ec7ab71",
   "metadata": {},
   "outputs": [],
   "source": [
    "import pandas as pd\n",
    "import matplotlib.pyplot as plt\n",
    "from sklearn.model_selection import train_test_split\n",
    "from sklearn.preprocessing import LabelEncoder\n",
    "from sklearn.preprocessing import StandardScaler\n",
    "from sklearn.linear_model import LinearRegression\n",
    "from sklearn import metrics\n",
    "from sklearn import svm\n",
    "from sklearn.svm import SVR\n",
    "from sklearn.neighbors import KNeighborsRegressor\n",
    "from sklearn import tree\n",
    "from sklearn.ensemble import RandomForestRegressor"
   ]
  },
  {
   "cell_type": "code",
   "execution_count": 42,
   "id": "0c5fbb39-d37a-4dbf-be4b-87c92e160a10",
   "metadata": {},
   "outputs": [],
   "source": [
    "dataset=pd.read_excel(\"/Users/roshni/Desktop/Crime Prediction system/crp.xlsx\")"
   ]
  },
  {
   "cell_type": "code",
   "execution_count": 43,
   "id": "7b6b92b2-d5f9-4407-887b-7f9d07d5e341",
   "metadata": {},
   "outputs": [
    {
     "name": "stdout",
     "output_type": "stream",
     "text": [
      "     Year       City  Population (in Lakhs) (2011)+  Murder  Kidnapping  \\\n",
      "0    2014  Ahmedabad                           63.5      82         367   \n",
      "1    2015  Ahmedabad                           63.5      94         332   \n",
      "2    2016  Ahmedabad                           63.5     103         376   \n",
      "3    2017  Ahmedabad                           63.5      90         263   \n",
      "4    2018  Ahmedabad                           63.5      98         277   \n",
      "..    ...        ...                            ...     ...         ...   \n",
      "147  2017      Surat                           45.8      89         332   \n",
      "148  2018      Surat                           45.8     108         373   \n",
      "149  2019      Surat                           45.8      97         358   \n",
      "150  2020      Surat                           45.8     116         163   \n",
      "151  2021      Surat                           45.8     121         270   \n",
      "\n",
      "     Crime against women  Crime against children  \\\n",
      "0                   1371                     437   \n",
      "1                   1067                     609   \n",
      "2                   1126                     481   \n",
      "3                   1405                     600   \n",
      "4                   1416                     733   \n",
      "..                   ...                     ...   \n",
      "147                  559                     526   \n",
      "148                  712                    1075   \n",
      "149                 1015                     770   \n",
      "150                  633                     419   \n",
      "151                  622                     479   \n",
      "\n",
      "     Crime Committed by Juveniles  Crime against Senior Citizen  \\\n",
      "0                             215                            68   \n",
      "1                             157                            17   \n",
      "2                             258                           362   \n",
      "3                             405                           534   \n",
      "4                             352                           733   \n",
      "..                            ...                           ...   \n",
      "147                           436                           131   \n",
      "148                           409                           161   \n",
      "149                           516                           232   \n",
      "150                           298                            69   \n",
      "151                           355                            66   \n",
      "\n",
      "     Crime against SC  Crime against ST  Economic Offences  Cyber Crimes  \n",
      "0                  66                 6                399            32  \n",
      "1                  60                 9                378            28  \n",
      "2                  96                10                479            77  \n",
      "3                 119                 6                608           112  \n",
      "4                 145                 9                842           212  \n",
      "..                ...               ...                ...           ...  \n",
      "147                32                10                719           105  \n",
      "148                29                13                829           155  \n",
      "149                34                19                804           228  \n",
      "150                20                12                401           204  \n",
      "151                22                19                663           296  \n",
      "\n",
      "[152 rows x 13 columns]\n"
     ]
    }
   ],
   "source": [
    "print(dataset)"
   ]
  },
  {
   "cell_type": "code",
   "execution_count": 5,
   "id": "969d1eeb-d508-459f-b04f-aad9ea22f465",
   "metadata": {},
   "outputs": [
    {
     "name": "stdout",
     "output_type": "stream",
     "text": [
      "<class 'pandas.core.frame.DataFrame'>\n",
      "RangeIndex: 152 entries, 0 to 151\n",
      "Data columns (total 13 columns):\n",
      " #   Column                         Non-Null Count  Dtype  \n",
      "---  ------                         --------------  -----  \n",
      " 0   Year                           152 non-null    int64  \n",
      " 1   City                           152 non-null    object \n",
      " 2   Population (in Lakhs) (2011)+  152 non-null    float64\n",
      " 3   Murder                         152 non-null    int64  \n",
      " 4   Kidnapping                     152 non-null    int64  \n",
      " 5   Crime against women            152 non-null    int64  \n",
      " 6   Crime against children         152 non-null    int64  \n",
      " 7   Crime Committed by Juveniles   152 non-null    int64  \n",
      " 8   Crime against Senior Citizen   152 non-null    int64  \n",
      " 9   Crime against SC               152 non-null    int64  \n",
      " 10  Crime against ST               152 non-null    int64  \n",
      " 11  Economic Offences              152 non-null    int64  \n",
      " 12  Cyber Crimes                   152 non-null    int64  \n",
      "dtypes: float64(1), int64(11), object(1)\n",
      "memory usage: 15.6+ KB\n"
     ]
    }
   ],
   "source": [
    "dataset.info()"
   ]
  },
  {
   "cell_type": "code",
   "execution_count": 6,
   "id": "9bea6f7e-8ff0-4eda-a1e7-c1a5c8ff289d",
   "metadata": {},
   "outputs": [],
   "source": [
    "#Data Preprcoessing"
   ]
  },
  {
   "cell_type": "code",
   "execution_count": 7,
   "id": "29b2a1dc-32bd-48a0-ac8f-fb95fabb0aa9",
   "metadata": {},
   "outputs": [],
   "source": [
    "#Step 1:Handle Missing Values\n",
    "dataset.fillna(dataset.median(numeric_only=True), inplace=True)  # Fill numeric NaN with median\n",
    "dataset.fillna(dataset.mode().iloc[0], inplace=True)  # Fill categorical NaN with mode"
   ]
  },
  {
   "cell_type": "code",
   "execution_count": 8,
   "id": "b6d9155d-c2d8-4f2b-85ee-6b54ccf5a844",
   "metadata": {},
   "outputs": [
    {
     "name": "stdout",
     "output_type": "stream",
     "text": [
      "     Year       City  Population (in Lakhs) (2011)+  Murder  Kidnapping  \\\n",
      "0    2014  Ahmedabad                           63.5      82         367   \n",
      "1    2015  Ahmedabad                           63.5      94         332   \n",
      "2    2016  Ahmedabad                           63.5     103         376   \n",
      "3    2017  Ahmedabad                           63.5      90         263   \n",
      "4    2018  Ahmedabad                           63.5      98         277   \n",
      "..    ...        ...                            ...     ...         ...   \n",
      "147  2017      Surat                           45.8      89         332   \n",
      "148  2018      Surat                           45.8     108         373   \n",
      "149  2019      Surat                           45.8      97         358   \n",
      "150  2020      Surat                           45.8     116         163   \n",
      "151  2021      Surat                           45.8     121         270   \n",
      "\n",
      "     Crime against women  Crime against children  \\\n",
      "0                   1371                     437   \n",
      "1                   1067                     609   \n",
      "2                   1126                     481   \n",
      "3                   1405                     600   \n",
      "4                   1416                     733   \n",
      "..                   ...                     ...   \n",
      "147                  559                     526   \n",
      "148                  712                    1075   \n",
      "149                 1015                     770   \n",
      "150                  633                     419   \n",
      "151                  622                     479   \n",
      "\n",
      "     Crime Committed by Juveniles  Crime against Senior Citizen  \\\n",
      "0                             215                            68   \n",
      "1                             157                            17   \n",
      "2                             258                           362   \n",
      "3                             405                           534   \n",
      "4                             352                           733   \n",
      "..                            ...                           ...   \n",
      "147                           436                           131   \n",
      "148                           409                           161   \n",
      "149                           516                           232   \n",
      "150                           298                            69   \n",
      "151                           355                            66   \n",
      "\n",
      "     Crime against SC  Crime against ST  Economic Offences  Cyber Crimes  \n",
      "0                  66                 6                399            32  \n",
      "1                  60                 9                378            28  \n",
      "2                  96                10                479            77  \n",
      "3                 119                 6                608           112  \n",
      "4                 145                 9                842           212  \n",
      "..                ...               ...                ...           ...  \n",
      "147                32                10                719           105  \n",
      "148                29                13                829           155  \n",
      "149                34                19                804           228  \n",
      "150                20                12                401           204  \n",
      "151                22                19                663           296  \n",
      "\n",
      "[152 rows x 13 columns]\n"
     ]
    }
   ],
   "source": [
    "print(dataset)"
   ]
  },
  {
   "cell_type": "code",
   "execution_count": 9,
   "id": "417e5f5a-05c6-4a0a-ab50-4d57c518d348",
   "metadata": {},
   "outputs": [],
   "source": [
    "#Step 2: Encode the \"City\" column (Convert text to numbers to make them machine-readable, we must convert them to numeric labels.)\n",
    "le=LabelEncoder()\n",
    "dataset['City_Code']=le.fit_transform(dataset['City'])"
   ]
  },
  {
   "cell_type": "code",
   "execution_count": 10,
   "id": "c8dfbcf3-dc95-4f5e-8cfd-b701beb12341",
   "metadata": {},
   "outputs": [
    {
     "name": "stdout",
     "output_type": "stream",
     "text": [
      "     Year       City  Population (in Lakhs) (2011)+  Murder  Kidnapping  \\\n",
      "0    2014  Ahmedabad                           63.5      82         367   \n",
      "1    2015  Ahmedabad                           63.5      94         332   \n",
      "2    2016  Ahmedabad                           63.5     103         376   \n",
      "3    2017  Ahmedabad                           63.5      90         263   \n",
      "4    2018  Ahmedabad                           63.5      98         277   \n",
      "..    ...        ...                            ...     ...         ...   \n",
      "147  2017      Surat                           45.8      89         332   \n",
      "148  2018      Surat                           45.8     108         373   \n",
      "149  2019      Surat                           45.8      97         358   \n",
      "150  2020      Surat                           45.8     116         163   \n",
      "151  2021      Surat                           45.8     121         270   \n",
      "\n",
      "     Crime against women  Crime against children  \\\n",
      "0                   1371                     437   \n",
      "1                   1067                     609   \n",
      "2                   1126                     481   \n",
      "3                   1405                     600   \n",
      "4                   1416                     733   \n",
      "..                   ...                     ...   \n",
      "147                  559                     526   \n",
      "148                  712                    1075   \n",
      "149                 1015                     770   \n",
      "150                  633                     419   \n",
      "151                  622                     479   \n",
      "\n",
      "     Crime Committed by Juveniles  Crime against Senior Citizen  \\\n",
      "0                             215                            68   \n",
      "1                             157                            17   \n",
      "2                             258                           362   \n",
      "3                             405                           534   \n",
      "4                             352                           733   \n",
      "..                            ...                           ...   \n",
      "147                           436                           131   \n",
      "148                           409                           161   \n",
      "149                           516                           232   \n",
      "150                           298                            69   \n",
      "151                           355                            66   \n",
      "\n",
      "     Crime against SC  Crime against ST  Economic Offences  Cyber Crimes  \\\n",
      "0                  66                 6                399            32   \n",
      "1                  60                 9                378            28   \n",
      "2                  96                10                479            77   \n",
      "3                 119                 6                608           112   \n",
      "4                 145                 9                842           212   \n",
      "..                ...               ...                ...           ...   \n",
      "147                32                10                719           105   \n",
      "148                29                13                829           155   \n",
      "149                34                19                804           228   \n",
      "150                20                12                401           204   \n",
      "151                22                19                663           296   \n",
      "\n",
      "     City_Code  \n",
      "0            0  \n",
      "1            0  \n",
      "2            0  \n",
      "3            0  \n",
      "4            0  \n",
      "..         ...  \n",
      "147         18  \n",
      "148         18  \n",
      "149         18  \n",
      "150         18  \n",
      "151         18  \n",
      "\n",
      "[152 rows x 14 columns]\n"
     ]
    }
   ],
   "source": [
    "print(dataset)"
   ]
  },
  {
   "cell_type": "code",
   "execution_count": 19,
   "id": "6b261893-40c7-47d9-bf2d-cb0b20987821",
   "metadata": {},
   "outputs": [],
   "source": [
    "# Convert categorical variables (City, Crime Type) into numeric using Label Encoding\n",
    "le_city = LabelEncoder()\n",
    "le_crime = LabelEncoder()\n",
    "df[\"City\"] = le_city.fit_transform(df[\"City\"])  \n",
    "df[\"Crime Type\"] = le_crime.fit_transform(df[\"Crime Type\"])  \n",
    "# Define X (features) and y (target)\n",
    "X = df[[\"Year\", \"City\", \"Population\", \"Crime Type\"]]\n",
    "y = df[\"Number of Cases\"]"
   ]
  },
  {
   "cell_type": "code",
   "execution_count": 47,
   "id": "22f8ff36-6970-4f53-b7a5-e5ac88160089",
   "metadata": {},
   "outputs": [],
   "source": [
    "#Step 3:Normalize numerical columns(MinMax Scaling)\n",
    "scaler_X = StandardScaler()  # Scaling for features\n",
    "scaler_y = StandardScaler()  # Scaling for target variable\n",
    "# Scale features\n",
    "X_scaled = scaler_X.fit_transform(X)  \n",
    "# Scale target variable (reshape required for single column)\n",
    "y_scaled = scaler_y.fit_transform(y.values.reshape(-1, 1)).ravel()"
   ]
  },
  {
   "cell_type": "code",
   "execution_count": 48,
   "id": "6408c00d-834a-4366-91fe-e774f608594f",
   "metadata": {},
   "outputs": [
    {
     "name": "stdout",
     "output_type": "stream",
     "text": [
      "     Year       City  Population (in Lakhs) (2011)+  Murder  Kidnapping  \\\n",
      "0    2014  Ahmedabad                           63.5      82         367   \n",
      "1    2015  Ahmedabad                           63.5      94         332   \n",
      "2    2016  Ahmedabad                           63.5     103         376   \n",
      "3    2017  Ahmedabad                           63.5      90         263   \n",
      "4    2018  Ahmedabad                           63.5      98         277   \n",
      "..    ...        ...                            ...     ...         ...   \n",
      "147  2017      Surat                           45.8      89         332   \n",
      "148  2018      Surat                           45.8     108         373   \n",
      "149  2019      Surat                           45.8      97         358   \n",
      "150  2020      Surat                           45.8     116         163   \n",
      "151  2021      Surat                           45.8     121         270   \n",
      "\n",
      "     Crime against women  Crime against children  \\\n",
      "0                   1371                     437   \n",
      "1                   1067                     609   \n",
      "2                   1126                     481   \n",
      "3                   1405                     600   \n",
      "4                   1416                     733   \n",
      "..                   ...                     ...   \n",
      "147                  559                     526   \n",
      "148                  712                    1075   \n",
      "149                 1015                     770   \n",
      "150                  633                     419   \n",
      "151                  622                     479   \n",
      "\n",
      "     Crime Committed by Juveniles  Crime against Senior Citizen  \\\n",
      "0                             215                            68   \n",
      "1                             157                            17   \n",
      "2                             258                           362   \n",
      "3                             405                           534   \n",
      "4                             352                           733   \n",
      "..                            ...                           ...   \n",
      "147                           436                           131   \n",
      "148                           409                           161   \n",
      "149                           516                           232   \n",
      "150                           298                            69   \n",
      "151                           355                            66   \n",
      "\n",
      "     Crime against SC  Crime against ST  Economic Offences  Cyber Crimes  \n",
      "0                  66                 6                399            32  \n",
      "1                  60                 9                378            28  \n",
      "2                  96                10                479            77  \n",
      "3                 119                 6                608           112  \n",
      "4                 145                 9                842           212  \n",
      "..                ...               ...                ...           ...  \n",
      "147                32                10                719           105  \n",
      "148                29                13                829           155  \n",
      "149                34                19                804           228  \n",
      "150                20                12                401           204  \n",
      "151                22                19                663           296  \n",
      "\n",
      "[152 rows x 13 columns]\n"
     ]
    }
   ],
   "source": [
    "print(dataset)"
   ]
  },
  {
   "cell_type": "code",
   "execution_count": 45,
   "id": "1e0455f2-5952-437d-af30-4aae3e059a08",
   "metadata": {},
   "outputs": [
    {
     "name": "stderr",
     "output_type": "stream",
     "text": [
      "/var/folders/pz/0j6jwx752xq1jsf9_vmdfvc80000gn/T/ipykernel_11426/994442190.py:8: FutureWarning: The behavior of DataFrame concatenation with empty or all-NA entries is deprecated. In a future version, this will no longer exclude empty or all-NA columns when determining the result dtypes. To retain the old behavior, exclude the relevant entries before the concat operation.\n",
      "  new_df = pd.concat([new_df, temp])  # Merge into final dataframe\n"
     ]
    }
   ],
   "source": [
    "#Step 4: Reshape the Data (Convert to long format)\n",
    "new_df = pd.DataFrame(columns=['Year', 'City', 'Population', 'Crime Type', 'Number of Cases'])\n",
    "for crime_type in dataset.columns[3:-1]:  # Loop through crime columns (Skipping Year, City, Population)\n",
    "    temp = dataset[['Year', 'City', 'Population (in Lakhs) (2011)+']].copy()  # Select required columns\n",
    "    temp.rename(columns={'Population (in Lakhs) (2011)+': 'Population'}, inplace=True)  \n",
    "    temp['Number of Cases'] = dataset[crime_type]  # Assign crime cases\n",
    "    temp['Crime Type'] = crime_type  # Assign crime type name   \n",
    "    new_df = pd.concat([new_df, temp])  # Merge into final dataframe\n"
   ]
  },
  {
   "cell_type": "code",
   "execution_count": 46,
   "id": "39a2ab77-a052-4fd6-8db9-cad9db01e98d",
   "metadata": {},
   "outputs": [
    {
     "name": "stdout",
     "output_type": "stream",
     "text": [
      "     Year       City  Population         Crime Type Number of Cases\n",
      "0    2014  Ahmedabad        63.5             Murder              82\n",
      "1    2015  Ahmedabad        63.5             Murder              94\n",
      "2    2016  Ahmedabad        63.5             Murder             103\n",
      "3    2017  Ahmedabad        63.5             Murder              90\n",
      "4    2018  Ahmedabad        63.5             Murder              98\n",
      "..    ...        ...         ...                ...             ...\n",
      "147  2017      Surat        45.8  Economic Offences             719\n",
      "148  2018      Surat        45.8  Economic Offences             829\n",
      "149  2019      Surat        45.8  Economic Offences             804\n",
      "150  2020      Surat        45.8  Economic Offences             401\n",
      "151  2021      Surat        45.8  Economic Offences             663\n",
      "\n",
      "[1368 rows x 5 columns]\n"
     ]
    }
   ],
   "source": [
    "print(new_df)"
   ]
  },
  {
   "cell_type": "code",
   "execution_count": 16,
   "id": "0e565c95-89cc-4ebf-985b-0b07353b37b8",
   "metadata": {},
   "outputs": [
    {
     "name": "stdout",
     "output_type": "stream",
     "text": [
      "Data preprocessing completed! Saved as 'processed_crime_data.csv'.\n"
     ]
    }
   ],
   "source": [
    "#Step 5: Save the processed dataset\n",
    "new_df.to_csv(\"processed_crime_data.csv\", index=False)\n",
    "print(\"Data preprocessing completed! Saved as 'processed_crime_data.csv'.\")"
   ]
  },
  {
   "cell_type": "code",
   "execution_count": 17,
   "id": "cf7d7964-eec0-4428-b334-e322e8fae7a1",
   "metadata": {},
   "outputs": [
    {
     "name": "stdout",
     "output_type": "stream",
     "text": [
      "      Year       City  Population    Crime Type  Number of Cases\n",
      "0     2014  Ahmedabad        63.5        Murder               82\n",
      "1     2015  Ahmedabad        63.5        Murder               94\n",
      "2     2016  Ahmedabad        63.5        Murder              103\n",
      "3     2017  Ahmedabad        63.5        Murder               90\n",
      "4     2018  Ahmedabad        63.5        Murder               98\n",
      "...    ...        ...         ...           ...              ...\n",
      "1515  2017      Surat        45.8  Cyber Crimes              105\n",
      "1516  2018      Surat        45.8  Cyber Crimes              155\n",
      "1517  2019      Surat        45.8  Cyber Crimes              228\n",
      "1518  2020      Surat        45.8  Cyber Crimes              204\n",
      "1519  2021      Surat        45.8  Cyber Crimes              296\n",
      "\n",
      "[1520 rows x 5 columns]\n"
     ]
    }
   ],
   "source": [
    "#Loading the processed data\n",
    "df=pd.read_csv(\"processed_crime_data.csv\")\n",
    "print(df)"
   ]
  },
  {
   "cell_type": "code",
   "execution_count": 18,
   "id": "5dc6fe27-277d-4695-892d-58a815a76e69",
   "metadata": {},
   "outputs": [
    {
     "name": "stdout",
     "output_type": "stream",
     "text": [
      "      Year       City  Population    Crime Type  Number of Cases\n",
      "0     2014  Ahmedabad        63.5        Murder               82\n",
      "1     2015  Ahmedabad        63.5        Murder               94\n",
      "2     2016  Ahmedabad        63.5        Murder              103\n",
      "3     2017  Ahmedabad        63.5        Murder               90\n",
      "4     2018  Ahmedabad        63.5        Murder               98\n",
      "...    ...        ...         ...           ...              ...\n",
      "1515  2017      Surat        45.8  Cyber Crimes              105\n",
      "1516  2018      Surat        45.8  Cyber Crimes              155\n",
      "1517  2019      Surat        45.8  Cyber Crimes              228\n",
      "1518  2020      Surat        45.8  Cyber Crimes              204\n",
      "1519  2021      Surat        45.8  Cyber Crimes              296\n",
      "\n",
      "[1520 rows x 5 columns]\n"
     ]
    }
   ],
   "source": [
    "print(df)"
   ]
  },
  {
   "cell_type": "code",
   "execution_count": 21,
   "id": "dd6c5689-720b-4da2-a2fa-c388f028d8c9",
   "metadata": {},
   "outputs": [
    {
     "name": "stdout",
     "output_type": "stream",
     "text": [
      "Training Samples: 1216, Testing Samples: 304\n"
     ]
    }
   ],
   "source": [
    "# Split into 80% training and 20% testing\n",
    "X_train, X_test, y_train, y_test = train_test_split(X, y, test_size=0.2, random_state=42)\n",
    "print(f\"Training Samples: {X_train.shape[0]}, Testing Samples: {X_test.shape[0]}\")"
   ]
  },
  {
   "cell_type": "code",
   "execution_count": 22,
   "id": "55fe1fc2-4901-42c7-94c7-e0a9c65fe07f",
   "metadata": {},
   "outputs": [],
   "source": [
    "#Model Creation"
   ]
  },
  {
   "cell_type": "code",
   "execution_count": 23,
   "id": "cab48db0-63fb-480e-bef7-566631078433",
   "metadata": {},
   "outputs": [],
   "source": [
    "#Model 1 - Linear Regression\n",
    "# Initialize the Linear Regression model\n",
    "model1=LinearRegression()\n",
    "# Train the model on training data\n",
    "model1.fit(X_train,y_train)\n",
    "# Predict on test data\n",
    "y_pred=model1.predict(X_test)"
   ]
  },
  {
   "cell_type": "code",
   "execution_count": 24,
   "id": "fd97a522-eacd-48f0-af18-b8afc6530d04",
   "metadata": {},
   "outputs": [
    {
     "name": "stdout",
     "output_type": "stream",
     "text": [
      "Mean Absolute Error: 672.7453927096226\n",
      "Mean Squared Error: 1364880.6655204748\n",
      "R² Score: 0.22886723028478917\n"
     ]
    }
   ],
   "source": [
    "#Evaluate Model 1 Performance\n",
    "print('Mean Absolute Error:', metrics.mean_absolute_error(y_test, y_pred))\n",
    "print('Mean Squared Error:', metrics.mean_squared_error(y_test, y_pred))\n",
    "print('R² Score:', metrics.r2_score(y_test, y_pred))"
   ]
  },
  {
   "cell_type": "code",
   "execution_count": 25,
   "id": "fe78a920-120e-4ec7-afb8-013df6dfc577",
   "metadata": {},
   "outputs": [],
   "source": [
    "#Model 2 - Support Vector Machine\n",
    "model2=svm.SVR()\n",
    "model2.fit(X_train,y_train)\n",
    "y_pred=model2.predict(X_test)"
   ]
  },
  {
   "cell_type": "code",
   "execution_count": 26,
   "id": "4d8f8c7a-018a-41ea-be14-66759d0359f6",
   "metadata": {},
   "outputs": [
    {
     "name": "stdout",
     "output_type": "stream",
     "text": [
      "Mean Absolute Error: 611.5805153255154\n",
      "Mean Squared Error: 1999383.4660305392\n",
      "R2 score: -0.12961532010198984\n"
     ]
    }
   ],
   "source": [
    "#Evaluate Model 2 Performance\n",
    "print('Mean Absolute Error:', metrics.mean_absolute_error(y_test, y_pred))\n",
    "print('Mean Squared Error:', metrics.mean_squared_error(y_test, y_pred))\n",
    "print('R2 score:', metrics.r2_score(y_test, y_pred))"
   ]
  },
  {
   "cell_type": "code",
   "execution_count": 27,
   "id": "3032ad8a-eef4-4cab-8ec0-5b73b8a1e17e",
   "metadata": {},
   "outputs": [],
   "source": [
    "#Model 3 - KNN\n",
    "model3 = KNeighborsRegressor(n_neighbors=2)\n",
    "model3.fit(X_train, y_train)\n",
    "y_pred = model3.predict(X_test)"
   ]
  },
  {
   "cell_type": "code",
   "execution_count": 28,
   "id": "c86f36d0-b2e7-4e2b-b769-0f2235950071",
   "metadata": {},
   "outputs": [
    {
     "name": "stdout",
     "output_type": "stream",
     "text": [
      "Mean Absolute Error: 341.15625\n",
      "Mean Squared Error: 559062.6011513158\n",
      "R2 score: 0.6841397911475234\n"
     ]
    }
   ],
   "source": [
    "#Evaluate Model 3 Performance\n",
    "print('Mean Absolute Error:', metrics.mean_absolute_error(y_test, y_pred))\n",
    "print('Mean Squared Error:', metrics.mean_squared_error(y_test, y_pred))\n",
    "print('R2 score:', metrics.r2_score(y_test, y_pred))"
   ]
  },
  {
   "cell_type": "code",
   "execution_count": 29,
   "id": "bac3497e-a2f5-4bcb-ae78-0fdcd231a496",
   "metadata": {},
   "outputs": [],
   "source": [
    "#Model 4 - Decision Tree Regressor\n",
    "model4 = tree.DecisionTreeRegressor()\n",
    "model4.fit(X_train, y_train)\n",
    "y_pred = model4.predict(X_test)"
   ]
  },
  {
   "cell_type": "code",
   "execution_count": 30,
   "id": "f4864c83-571c-4f89-8d0a-306e5d4fb6ee",
   "metadata": {},
   "outputs": [
    {
     "name": "stdout",
     "output_type": "stream",
     "text": [
      "Mean Absolute Error: 121.10197368421052\n",
      "Mean Squared Error: 80752.84539473684\n",
      "R2 score: 0.9543761100111404\n"
     ]
    }
   ],
   "source": [
    "#Evaluate Model 4 Performance\n",
    "print('Mean Absolute Error:', metrics.mean_absolute_error(y_test, y_pred))\n",
    "print('Mean Squared Error:', metrics.mean_squared_error(y_test, y_pred))\n",
    "print('R2 score:', metrics.r2_score(y_test, y_pred))"
   ]
  },
  {
   "cell_type": "code",
   "execution_count": 31,
   "id": "8a4efad4-d695-43ef-8f4e-9586d29f4eba",
   "metadata": {},
   "outputs": [],
   "source": [
    "#Model 5 - RandomForestRegressor\n",
    "model5 = RandomForestRegressor(random_state=0)\n",
    "model5.fit(X_train, y_train)\n",
    "y_pred = model5.predict(X_test)"
   ]
  },
  {
   "cell_type": "code",
   "execution_count": 32,
   "id": "7b4d4e1b-8036-4f11-add8-48a3d300efc7",
   "metadata": {},
   "outputs": [
    {
     "name": "stdout",
     "output_type": "stream",
     "text": [
      "Mean Absolute Error: 110.29296052631578\n",
      "Mean Squared Error: 62525.12813618421\n",
      "R2 score: 0.9646744389788333\n"
     ]
    }
   ],
   "source": [
    "#Evaluate Model 5 Performance\n",
    "print('Mean Absolute Error:', metrics.mean_absolute_error(y_test, y_pred))\n",
    "print('Mean Squared Error:', metrics.mean_squared_error(y_test, y_pred))\n",
    "print('R2 score:', metrics.r2_score(y_test, y_pred))"
   ]
  },
  {
   "cell_type": "code",
   "execution_count": 33,
   "id": "10a994a1-8211-456d-9249-9ab492b4d1b7",
   "metadata": {},
   "outputs": [
    {
     "name": "stdout",
     "output_type": "stream",
     "text": [
      "                    Model  Mean Absolute Error  Mean Squared Error  R2 Score\n",
      "2                     KNN           108.916118        5.867572e+04  0.966849\n",
      "4           Random Forest           109.387993        6.129064e+04  0.965372\n",
      "3           Decision Tree           122.059211        7.806899e+04  0.955892\n",
      "0       Linear Regression           672.745393        1.364881e+06  0.228867\n",
      "1  Support Vector Machine           605.409109        1.986454e+06 -0.122311\n"
     ]
    }
   ],
   "source": [
    "# Store evaluation metrics for each model\n",
    "results = {\n",
    "    \"Model\": [\"Linear Regression\", \"Support Vector Machine\", \"KNN\", \"Decision Tree\", \"Random Forest\"],\n",
    "    \"Mean Absolute Error\": [672.7453927096228, 605.4091092169841 , 108.91611842105263 , 122.0592105263158, 109.38799342105264 ],\n",
    "    \"Mean Squared Error\": [1364880.6655204755, 1986454.318388477,  58675.71792763158, 78068.98684210527 , 61290.64291875],  # Replace with your actual values\n",
    "    \"R2 Score\": [0.22886723028478873, -0.12231058666767258, 0.9668492857847694, 0.955892441315039, 0.9653719006902786]  # Replace with your actual values\n",
    "}\n",
    "# Convert to DataFrame\n",
    "results_df = pd.DataFrame(results)\n",
    "# Sort by R2 Score (higher is better)\n",
    "results_df = results_df.sort_values(by=\"R2 Score\", ascending=False)\n",
    "# Display results\n",
    "print(results_df)"
   ]
  },
  {
   "cell_type": "code",
   "execution_count": null,
   "id": "78223eeb-7413-49ef-a172-1987ac628ba0",
   "metadata": {},
   "outputs": [],
   "source": [
    "#Model Performance Comparison\n",
    "\n",
    "#Best Model: K-Nearest Neighbors (KNN)\n",
    "#R² Score = 0.9668 → Highest among all models (close to 1, meaning strong predictive power).\n",
    "#Lowest Mean Absolute Error (MAE) = 108.91 → Model is making small mistakes on average.\n",
    "#Lowest Mean Squared Error (MSE) = 58675.72 → Model is minimizing error efficiently.\n",
    "\n",
    "#Runner-up: Random Forest\n",
    "#R² Score = 0.9653 → Very close to KNN.\n",
    "#MAE = 109.39 → Almost as good as KNN.\n",
    "#MSE = 61290.64 → Slightly worse than KNN.\n",
    "\n",
    "#KNN vs. Random Forest:\n",
    "#KNN performs slightly better.\n",
    "#Random Forest is more robust and works better for larger datasets or unseen data.\n",
    "#If speed is a concern, Random Forest is faster for large datasets, while KNN can be slow in real-time predictions."
   ]
  },
  {
   "cell_type": "code",
   "execution_count": 34,
   "id": "c84a2271-7367-4fcc-880f-fbf147a716a3",
   "metadata": {},
   "outputs": [
    {
     "name": "stdout",
     "output_type": "stream",
     "text": [
      "KNN Model saved successfully as 'knn_model.joblib'\n",
      "KNN Model loaded successfully!\n"
     ]
    }
   ],
   "source": [
    "import joblib\n",
    "# Save the trained KNN model\n",
    "joblib.dump(model3, 'knn_model.joblib')\n",
    "print(\"KNN Model saved successfully as 'knn_model.joblib'\")\n",
    "# Load the saved KNN model\n",
    "knn_model = joblib.load('knn_model.joblib')\n",
    "print(\"KNN Model loaded successfully!\")"
   ]
  },
  {
   "cell_type": "code",
   "execution_count": 40,
   "id": "2e4da9c4",
   "metadata": {},
   "outputs": [
    {
     "name": "stdout",
     "output_type": "stream",
     "text": [
      "KNN Model and Scaler saved successfully!\n"
     ]
    }
   ],
   "source": [
    "import joblib\n",
    "from sklearn.preprocessing import StandardScaler\n",
    "from sklearn.neighbors import KNeighborsClassifier\n",
    "\n",
    "# Assuming you have your training data: X_train and y_train\n",
    "# Create the scaler\n",
    "scaler = StandardScaler()\n",
    "\n",
    "# Fit the scaler on your training data (X_train)\n",
    "X_train_scaled = scaler.fit_transform(X_train)\n",
    "\n",
    "# Train the model (model3)\n",
    "model3 = KNeighborsClassifier(n_neighbors=5)\n",
    "model3.fit(X_train_scaled, y_train)\n",
    "\n",
    "# Save the trained KNN model and the scaler\n",
    "joblib.dump(model3, 'knn_model.joblib')\n",
    "joblib.dump(scaler, 'scaler_X.joblib')  # Save the scaler\n",
    "print(\"KNN Model and Scaler saved successfully!\")\n"
   ]
  },
  {
   "cell_type": "code",
   "execution_count": 35,
   "id": "cfdfbb19-8705-43a0-a8dd-05ed6b4a2946",
   "metadata": {},
   "outputs": [],
   "source": [
    "# Predict on test data\n",
    "y_pred=knn_model.predict(X_test)"
   ]
  },
  {
   "cell_type": "code",
   "execution_count": 36,
   "id": "950d90ea-242b-4e99-b193-ab3640b2b863",
   "metadata": {},
   "outputs": [
    {
     "name": "stdout",
     "output_type": "stream",
     "text": [
      "Model Accuracy after Loading:\n",
      "Mean Absolute Error: 341.15625\n",
      "Mean Squared Error: 559062.6011513158\n",
      "R2 Score: 0.6841397911475234\n"
     ]
    }
   ],
   "source": [
    "from sklearn.metrics import mean_absolute_error, mean_squared_error, r2_score\n",
    "# Calculate performance metrics\n",
    "mae = mean_absolute_error(y_test, y_pred)\n",
    "mse = mean_squared_error(y_test, y_pred)\n",
    "r2 = r2_score(y_test, y_pred)\n",
    "# Print the results\n",
    "print(f\"Model Accuracy after Loading:\")\n",
    "print(f\"Mean Absolute Error: {mae}\")\n",
    "print(f\"Mean Squared Error: {mse}\")\n",
    "print(f\"R2 Score: {r2}\")"
   ]
  },
  {
   "cell_type": "code",
   "execution_count": 41,
   "id": "c02a07c8-b79c-4585-b44c-d6baebbe8132",
   "metadata": {},
   "outputs": [
    {
     "name": "stdout",
     "output_type": "stream",
     "text": [
      "Collecting flask\n",
      "  Downloading flask-3.1.0-py3-none-any.whl.metadata (2.7 kB)\n",
      "Collecting Werkzeug>=3.1 (from flask)\n",
      "  Downloading werkzeug-3.1.3-py3-none-any.whl.metadata (3.7 kB)\n",
      "Collecting Jinja2>=3.1.2 (from flask)\n",
      "  Downloading jinja2-3.1.6-py3-none-any.whl.metadata (2.9 kB)\n",
      "Collecting itsdangerous>=2.2 (from flask)\n",
      "  Downloading itsdangerous-2.2.0-py3-none-any.whl.metadata (1.9 kB)\n",
      "Collecting click>=8.1.3 (from flask)\n",
      "  Downloading click-8.1.8-py3-none-any.whl.metadata (2.3 kB)\n",
      "Collecting blinker>=1.9 (from flask)\n",
      "  Downloading blinker-1.9.0-py3-none-any.whl.metadata (1.6 kB)\n",
      "Collecting MarkupSafe>=2.0 (from Jinja2>=3.1.2->flask)\n",
      "  Downloading MarkupSafe-3.0.2-cp313-cp313-macosx_11_0_arm64.whl.metadata (4.0 kB)\n",
      "Downloading flask-3.1.0-py3-none-any.whl (102 kB)\n",
      "Downloading blinker-1.9.0-py3-none-any.whl (8.5 kB)\n",
      "Downloading click-8.1.8-py3-none-any.whl (98 kB)\n",
      "Downloading itsdangerous-2.2.0-py3-none-any.whl (16 kB)\n",
      "Downloading jinja2-3.1.6-py3-none-any.whl (134 kB)\n",
      "Downloading werkzeug-3.1.3-py3-none-any.whl (224 kB)\n",
      "Downloading MarkupSafe-3.0.2-cp313-cp313-macosx_11_0_arm64.whl (12 kB)\n",
      "Installing collected packages: MarkupSafe, itsdangerous, click, blinker, Werkzeug, Jinja2, flask\n",
      "Successfully installed Jinja2-3.1.6 MarkupSafe-3.0.2 Werkzeug-3.1.3 blinker-1.9.0 click-8.1.8 flask-3.1.0 itsdangerous-2.2.0\n",
      "Note: you may need to restart the kernel to use updated packages.\n"
     ]
    }
   ],
   "source": [
    "pip install flask\n"
   ]
  }
 ],
 "metadata": {
  "kernelspec": {
   "display_name": "Python 3",
   "language": "python",
   "name": "python3"
  },
  "language_info": {
   "codemirror_mode": {
    "name": "ipython",
    "version": 3
   },
   "file_extension": ".py",
   "mimetype": "text/x-python",
   "name": "python",
   "nbconvert_exporter": "python",
   "pygments_lexer": "ipython3",
   "version": "3.13.3"
  }
 },
 "nbformat": 4,
 "nbformat_minor": 5
}
